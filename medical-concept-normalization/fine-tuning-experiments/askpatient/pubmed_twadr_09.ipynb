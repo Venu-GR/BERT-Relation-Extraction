{
  "nbformat": 4,
  "nbformat_minor": 0,
  "metadata": {
    "accelerator": "TPU",
    "colab": {
      "name": "pubmed_twadr_09.ipynb",
      "provenance": [],
      "collapsed_sections": [],
      "toc_visible": true,
      "include_colab_link": true
    },
    "kernelspec": {
      "display_name": "Python 3",
      "name": "python3"
    }
  },
  "cells": [
    {
      "cell_type": "markdown",
      "metadata": {
        "id": "view-in-github",
        "colab_type": "text"
      },
      "source": [
        "<a href=\"https://colab.research.google.com/github/unt-iialab/BERT-Relation-Extraction/blob/master/medical-concept-normalization/fine-tuning-experiments/askpatient/pubmed_twadr_09.ipynb\" target=\"_parent\"><img src=\"https://colab.research.google.com/assets/colab-badge.svg\" alt=\"Open In Colab\"/></a>"
      ]
    },
    {
      "cell_type": "code",
      "metadata": {
        "id": "adSi6i2-dWxy"
      },
      "source": [
        "import os"
      ],
      "execution_count": 1,
      "outputs": []
    },
    {
      "cell_type": "code",
      "metadata": {
        "id": "E7xYCRGPjd9B"
      },
      "source": [
        "base_dir = 'medical-concept-normalization'"
      ],
      "execution_count": 2,
      "outputs": []
    },
    {
      "cell_type": "code",
      "metadata": {
        "id": "yvIW3aUDjYNS"
      },
      "source": [
        "os.mkdir(base_dir)"
      ],
      "execution_count": 3,
      "outputs": []
    },
    {
      "cell_type": "code",
      "metadata": {
        "id": "es-FFLlfk6SG"
      },
      "source": [
        "os.mkdir('medical-concept-normalization/data_collection')"
      ],
      "execution_count": 4,
      "outputs": []
    },
    {
      "cell_type": "markdown",
      "metadata": {
        "id": "0R-Guw_VoJXm"
      },
      "source": [
        "**Install fastai and clone the fastai for text classification**\n",
        "\n"
      ]
    },
    {
      "cell_type": "code",
      "metadata": {
        "id": "QVZa3Z0PmHFH",
        "outputId": "8996ef09-ff65-4d5b-c9b1-112838b56ff8",
        "colab": {
          "base_uri": "https://localhost:8080/"
        }
      },
      "source": [
        "!curl https://course-v3.fast.ai/setup/colab | bash"
      ],
      "execution_count": 5,
      "outputs": [
        {
          "output_type": "stream",
          "text": [
            "  % Total    % Received % Xferd  Average Speed   Time    Time     Time  Current\n",
            "                                 Dload  Upload   Total   Spent    Left  Speed\n",
            "\r  0     0    0     0    0     0      0      0 --:--:-- --:--:-- --:--:--     0curl: (6) Could not resolve host: course-v3.fast.ai\n"
          ],
          "name": "stdout"
        }
      ]
    },
    {
      "cell_type": "code",
      "metadata": {
        "id": "_FBFFEBrmJC0",
        "outputId": "ffd5c121-57e8-4403-eff7-d76f2d062de6",
        "colab": {
          "base_uri": "https://localhost:8080/"
        }
      },
      "source": [
        "!git clone https://github.com/wshuyi/demo-nlp-classification-fastai.git"
      ],
      "execution_count": 6,
      "outputs": [
        {
          "output_type": "stream",
          "text": [
            "Cloning into 'demo-nlp-classification-fastai'...\n",
            "remote: Enumerating objects: 9, done.\u001b[K\n",
            "remote: Total 9 (delta 0), reused 0 (delta 0), pack-reused 9\u001b[K\n",
            "Unpacking objects: 100% (9/9), done.\n"
          ],
          "name": "stdout"
        }
      ]
    },
    {
      "cell_type": "code",
      "metadata": {
        "id": "66zfh_JqmWMU"
      },
      "source": [
        "from fastai import *\n",
        "from fastai.text import *"
      ],
      "execution_count": 7,
      "outputs": []
    },
    {
      "cell_type": "markdown",
      "metadata": {
        "id": "mNIw-yALdBU9"
      },
      "source": [
        "**Set the path of the data collections**"
      ]
    },
    {
      "cell_type": "code",
      "metadata": {
        "id": "pzH7VMh4mqCL"
      },
      "source": [
        "path = Path('medical-concept-normalization/data_collection')"
      ],
      "execution_count": 8,
      "outputs": []
    },
    {
      "cell_type": "code",
      "metadata": {
        "id": "b8fjI6yyn4aS"
      },
      "source": [
        "# training data set\n",
        "\n",
        "train_csv = path/'TwADR-L.fold-9.train.csv'\n",
        "train = pd.read_csv(train_csv, header=None)\n",
        "#train.head()\n",
        "#train.info()"
      ],
      "execution_count": 10,
      "outputs": []
    },
    {
      "cell_type": "code",
      "metadata": {
        "id": "Hmlr-bAorfHd",
        "outputId": "ef63ecf5-4175-4d1e-c8ca-f4f539ae14aa",
        "colab": {
          "base_uri": "https://localhost:8080/",
          "height": 204
        }
      },
      "source": [
        "# validating data set\n",
        "\n",
        "valid = pd.read_csv(path/\"TwADR-L.fold-9.validation.csv\",header=None)\n",
        "valid.head()"
      ],
      "execution_count": 11,
      "outputs": [
        {
          "output_type": "execute_result",
          "data": {
            "text/html": [
              "<div>\n",
              "<style scoped>\n",
              "    .dataframe tbody tr th:only-of-type {\n",
              "        vertical-align: middle;\n",
              "    }\n",
              "\n",
              "    .dataframe tbody tr th {\n",
              "        vertical-align: top;\n",
              "    }\n",
              "\n",
              "    .dataframe thead th {\n",
              "        text-align: right;\n",
              "    }\n",
              "</style>\n",
              "<table border=\"1\" class=\"dataframe\">\n",
              "  <thead>\n",
              "    <tr style=\"text-align: right;\">\n",
              "      <th></th>\n",
              "      <th>0</th>\n",
              "      <th>1</th>\n",
              "    </tr>\n",
              "  </thead>\n",
              "  <tbody>\n",
              "    <tr>\n",
              "      <th>0</th>\n",
              "      <td>13</td>\n",
              "      <td>up all night</td>\n",
              "    </tr>\n",
              "    <tr>\n",
              "      <th>1</th>\n",
              "      <td>13</td>\n",
              "      <td>insomnia</td>\n",
              "    </tr>\n",
              "    <tr>\n",
              "      <th>2</th>\n",
              "      <td>60</td>\n",
              "      <td>cigarette withdrawal</td>\n",
              "    </tr>\n",
              "    <tr>\n",
              "      <th>3</th>\n",
              "      <td>85</td>\n",
              "      <td>tremor</td>\n",
              "    </tr>\n",
              "    <tr>\n",
              "      <th>4</th>\n",
              "      <td>121</td>\n",
              "      <td>itches</td>\n",
              "    </tr>\n",
              "  </tbody>\n",
              "</table>\n",
              "</div>"
            ],
            "text/plain": [
              "     0                     1\n",
              "0   13          up all night\n",
              "1   13              insomnia\n",
              "2   60  cigarette withdrawal\n",
              "3   85                tremor\n",
              "4  121                itches"
            ]
          },
          "metadata": {
            "tags": []
          },
          "execution_count": 11
        }
      ]
    },
    {
      "cell_type": "code",
      "metadata": {
        "id": "cOza9dfSsBud",
        "outputId": "f39d4153-b65e-49fe-d2f3-939550d55b0d",
        "colab": {
          "base_uri": "https://localhost:8080/",
          "height": 204
        }
      },
      "source": [
        "# testing data set\n",
        "\n",
        "test = pd.read_csv(path/\"TwADR-L.fold-9.test.csv\",header=None)\n",
        "test.head()"
      ],
      "execution_count": 12,
      "outputs": [
        {
          "output_type": "execute_result",
          "data": {
            "text/html": [
              "<div>\n",
              "<style scoped>\n",
              "    .dataframe tbody tr th:only-of-type {\n",
              "        vertical-align: middle;\n",
              "    }\n",
              "\n",
              "    .dataframe tbody tr th {\n",
              "        vertical-align: top;\n",
              "    }\n",
              "\n",
              "    .dataframe thead th {\n",
              "        text-align: right;\n",
              "    }\n",
              "</style>\n",
              "<table border=\"1\" class=\"dataframe\">\n",
              "  <thead>\n",
              "    <tr style=\"text-align: right;\">\n",
              "      <th></th>\n",
              "      <th>0</th>\n",
              "      <th>1</th>\n",
              "    </tr>\n",
              "  </thead>\n",
              "  <tbody>\n",
              "    <tr>\n",
              "      <th>0</th>\n",
              "      <td>62</td>\n",
              "      <td>feeling proper psycho</td>\n",
              "    </tr>\n",
              "    <tr>\n",
              "      <th>1</th>\n",
              "      <td>74</td>\n",
              "      <td>useless without</td>\n",
              "    </tr>\n",
              "    <tr>\n",
              "      <th>2</th>\n",
              "      <td>85</td>\n",
              "      <td>tremor</td>\n",
              "    </tr>\n",
              "    <tr>\n",
              "      <th>3</th>\n",
              "      <td>91</td>\n",
              "      <td>jitters</td>\n",
              "    </tr>\n",
              "    <tr>\n",
              "      <th>4</th>\n",
              "      <td>97</td>\n",
              "      <td>screwing with my short term memory</td>\n",
              "    </tr>\n",
              "  </tbody>\n",
              "</table>\n",
              "</div>"
            ],
            "text/plain": [
              "    0                                   1\n",
              "0  62               feeling proper psycho\n",
              "1  74                     useless without\n",
              "2  85                              tremor\n",
              "3  91                             jitters\n",
              "4  97  screwing with my short term memory"
            ]
          },
          "metadata": {
            "tags": []
          },
          "execution_count": 12
        }
      ]
    },
    {
      "cell_type": "code",
      "metadata": {
        "id": "Vo-YNvVYoaH6",
        "outputId": "3bb9f456-f77a-4b07-a427-20d98e32370a",
        "colab": {
          "base_uri": "https://localhost:8080/",
          "height": 17
        }
      },
      "source": [
        "# Creating DataBunch for language modelling\n",
        "\n",
        "data_lm = TextLMDataBunch.from_csv(path, 'TwADR_pubmed.csv')"
      ],
      "execution_count": 13,
      "outputs": [
        {
          "output_type": "display_data",
          "data": {
            "text/html": [
              ""
            ],
            "text/plain": [
              "<IPython.core.display.HTML object>"
            ]
          },
          "metadata": {
            "tags": []
          }
        },
        {
          "output_type": "display_data",
          "data": {
            "text/html": [
              ""
            ],
            "text/plain": [
              "<IPython.core.display.HTML object>"
            ]
          },
          "metadata": {
            "tags": []
          }
        }
      ]
    },
    {
      "cell_type": "code",
      "metadata": {
        "id": "qcV-9kMnNLBf"
      },
      "source": [
        ""
      ],
      "execution_count": 13,
      "outputs": []
    },
    {
      "cell_type": "code",
      "metadata": {
        "id": "1ScY9afDsnvE"
      },
      "source": [
        "# Creating DataBunch for classification\n",
        "\n",
        "# data_clas = TextClasDataBunch.from_df(path, train, valid, test, vocab=data_lm.train_ds.vocab, bs=128)"
      ],
      "execution_count": 14,
      "outputs": []
    },
    {
      "cell_type": "code",
      "metadata": {
        "id": "gzrSdQcvey9p",
        "outputId": "efac8e18-c81f-45fa-c5aa-66f1c30aa031",
        "colab": {
          "base_uri": "https://localhost:8080/",
          "height": 17
        }
      },
      "source": [
        "data_clas = TextClasDataBunch.from_df(path, train, valid, vocab=data_lm.train_ds.vocab, bs=128)"
      ],
      "execution_count": 15,
      "outputs": [
        {
          "output_type": "display_data",
          "data": {
            "text/html": [
              ""
            ],
            "text/plain": [
              "<IPython.core.display.HTML object>"
            ]
          },
          "metadata": {
            "tags": []
          }
        },
        {
          "output_type": "display_data",
          "data": {
            "text/html": [
              ""
            ],
            "text/plain": [
              "<IPython.core.display.HTML object>"
            ]
          },
          "metadata": {
            "tags": []
          }
        }
      ]
    },
    {
      "cell_type": "code",
      "metadata": {
        "id": "MD27Tf0Ke3ou",
        "outputId": "71d04b95-69d3-4100-affc-835012ffcd7d",
        "colab": {
          "base_uri": "https://localhost:8080/",
          "height": 17
        }
      },
      "source": [
        "data_clas.add_test(test,label=0)\n"
      ],
      "execution_count": 16,
      "outputs": [
        {
          "output_type": "display_data",
          "data": {
            "text/html": [
              ""
            ],
            "text/plain": [
              "<IPython.core.display.HTML object>"
            ]
          },
          "metadata": {
            "tags": []
          }
        }
      ]
    },
    {
      "cell_type": "code",
      "metadata": {
        "id": "-dpjnk_rstwk"
      },
      "source": [
        "data_lm.save()\n",
        "data_clas.save()"
      ],
      "execution_count": 17,
      "outputs": []
    },
    {
      "cell_type": "code",
      "metadata": {
        "id": "4OkiJa36sw5s",
        "outputId": "deeb7a0c-74ed-41bf-8d70-79a25ebba450",
        "colab": {
          "base_uri": "https://localhost:8080/"
        }
      },
      "source": [
        "data_lm.train_ds.vocab.itos"
      ],
      "execution_count": 18,
      "outputs": [
        {
          "output_type": "execute_result",
          "data": {
            "text/plain": [
              "['xxunk',\n",
              " 'xxpad',\n",
              " 'xxbos',\n",
              " 'xxeos',\n",
              " 'xxfld',\n",
              " 'xxmaj',\n",
              " 'xxup',\n",
              " 'xxrep',\n",
              " 'xxwrep',\n",
              " 'the',\n",
              " 'of',\n",
              " 'and',\n",
              " 'in',\n",
              " 'to',\n",
              " 'a',\n",
              " 'diclofenac',\n",
              " 'was',\n",
              " 'with',\n",
              " 'were',\n",
              " 'for',\n",
              " 'pain',\n",
              " 'sodium',\n",
              " 'drug',\n",
              " 'by',\n",
              " 'on',\n",
              " 'patients',\n",
              " 'that',\n",
              " 'is',\n",
              " 'as',\n",
              " 'or',\n",
              " 'at',\n",
              " 'mg',\n",
              " 'increased',\n",
              " 'group',\n",
              " 'from',\n",
              " 'mood',\n",
              " 'study',\n",
              " 'treatment',\n",
              " 'this',\n",
              " 'after',\n",
              " 'release',\n",
              " 'p',\n",
              " 'an',\n",
              " 'disorder',\n",
              " 'me',\n",
              " 'be',\n",
              " ',',\n",
              " 'i',\n",
              " 'effect',\n",
              " 'abnormal',\n",
              " 'withdrawal',\n",
              " 'decreased',\n",
              " 'not',\n",
              " 'than',\n",
              " 'weight',\n",
              " 'compared',\n",
              " 'anxiety',\n",
              " 'my',\n",
              " 'groups',\n",
              " 'no',\n",
              " 'are',\n",
              " 'using',\n",
              " 'inflammatory',\n",
              " 'symptoms',\n",
              " 'effects',\n",
              " 'two',\n",
              " 'both',\n",
              " 'significantly',\n",
              " 'drugs',\n",
              " 'acute',\n",
              " 'significant',\n",
              " 'potassium',\n",
              " 'anti',\n",
              " 'skin',\n",
              " 'h',\n",
              " 'between',\n",
              " 'day',\n",
              " 'dose',\n",
              " 'disorders',\n",
              " 'behavior',\n",
              " 'used',\n",
              " 'syndrome',\n",
              " 'all',\n",
              " 'voltaren',\n",
              " '(',\n",
              " ')',\n",
              " 'blood',\n",
              " 'time',\n",
              " 'results',\n",
              " 'had',\n",
              " 'these',\n",
              " 'placebo',\n",
              " 'which',\n",
              " '-',\n",
              " 'efficacy',\n",
              " 'diseases',\n",
              " 'have',\n",
              " 'it',\n",
              " 'concentration',\n",
              " 'oral',\n",
              " 'days',\n",
              " 'sleeplessness',\n",
              " 'also',\n",
              " 'ml',\n",
              " 'we',\n",
              " 'ds',\n",
              " 'like',\n",
              " 'showed',\n",
              " 'different',\n",
              " 'feeling',\n",
              " 'treated',\n",
              " 'up',\n",
              " 'topical',\n",
              " 'one',\n",
              " 'somnolence',\n",
              " 'finding',\n",
              " 'disturbance',\n",
              " 'more',\n",
              " 'administration',\n",
              " 'non',\n",
              " 'insomnia',\n",
              " 'high',\n",
              " 'has',\n",
              " 'acid',\n",
              " 'c',\n",
              " 'energy',\n",
              " 'sleep',\n",
              " 'but',\n",
              " 'got',\n",
              " 'studies',\n",
              " 'rats',\n",
              " 'plasma',\n",
              " 'been',\n",
              " 'during',\n",
              " 'induced',\n",
              " 'swelling',\n",
              " 'control',\n",
              " 'clinical',\n",
              " 'nausea',\n",
              " 'muscle',\n",
              " 'formulations',\n",
              " 'formulation',\n",
              " 'nsaids',\n",
              " 'mental',\n",
              " 'state',\n",
              " 'there',\n",
              " 'hours',\n",
              " 'rate',\n",
              " 'respectively',\n",
              " 'other',\n",
              " 'observed',\n",
              " 'found',\n",
              " 'their',\n",
              " 'into',\n",
              " 'appetite',\n",
              " 'mean',\n",
              " 'body',\n",
              " 'gain',\n",
              " 'tablets',\n",
              " 'low',\n",
              " 'method',\n",
              " 'may',\n",
              " 'ph',\n",
              " 'disease',\n",
              " 'kg',\n",
              " 'effective',\n",
              " 'its',\n",
              " 'g',\n",
              " 'solution',\n",
              " 'gel',\n",
              " 'depression',\n",
              " 's',\n",
              " 'n',\n",
              " 'three',\n",
              " 'excitability',\n",
              " 'received',\n",
              " 'when',\n",
              " 'analysis',\n",
              " 'activity',\n",
              " 'hyperactive',\n",
              " 'use',\n",
              " 'conditions',\n",
              " 'attention',\n",
              " 'd',\n",
              " 'renal',\n",
              " 'analgesic',\n",
              " 'test',\n",
              " 'total',\n",
              " 'vitro',\n",
              " 'levels',\n",
              " 'heart',\n",
              " 'well',\n",
              " 'feelings',\n",
              " 'cell',\n",
              " 'over',\n",
              " 'ceiling',\n",
              " 'controlled',\n",
              " 'awake',\n",
              " 'reaction',\n",
              " 'adverse',\n",
              " 'irritable',\n",
              " 'out',\n",
              " 'first',\n",
              " 'drowsiness',\n",
              " 'dizziness',\n",
              " 'atorvastatin',\n",
              " 'single',\n",
              " 'each',\n",
              " 'serum',\n",
              " 'application',\n",
              " 'randomized',\n",
              " 'lower',\n",
              " 'data',\n",
              " 'concentrations',\n",
              " 'level',\n",
              " 'period',\n",
              " 'panic',\n",
              " 'eye',\n",
              " 'liver',\n",
              " 'less',\n",
              " 'feel',\n",
              " 'm',\n",
              " 'system',\n",
              " 'evaluated',\n",
              " 'headache',\n",
              " 'daily',\n",
              " 'however',\n",
              " 'surgery',\n",
              " 'gastrointestinal',\n",
              " 'following',\n",
              " 'patient',\n",
              " 'weeks',\n",
              " 'function',\n",
              " 'loss',\n",
              " 'l',\n",
              " 'joint',\n",
              " 't',\n",
              " 'arthritis',\n",
              " 'model',\n",
              " 'double',\n",
              " 'site',\n",
              " 'inflammation',\n",
              " 'rash',\n",
              " 'therapy',\n",
              " 'nsaid',\n",
              " 'can',\n",
              " 'depressed',\n",
              " 'allergic',\n",
              " 'postoperative',\n",
              " 'obtained',\n",
              " 'difference',\n",
              " 'present',\n",
              " 'higher',\n",
              " 'infection',\n",
              " 'increase',\n",
              " 'swings',\n",
              " 'only',\n",
              " 'tablet',\n",
              " 'b',\n",
              " 'reduced',\n",
              " 'dissolution',\n",
              " 'similar',\n",
              " 'edema',\n",
              " 'injury',\n",
              " 'water',\n",
              " 'injection',\n",
              " 'under',\n",
              " 'most',\n",
              " 'initial',\n",
              " 'combination',\n",
              " 'did',\n",
              " 'bone',\n",
              " 'bipolar',\n",
              " 'administered',\n",
              " 'based',\n",
              " 'performed',\n",
              " 'cells',\n",
              " 'migraine',\n",
              " '#',\n",
              " 'changes',\n",
              " 'prepared',\n",
              " 'studied',\n",
              " 'wakefulness',\n",
              " 'response',\n",
              " 'min',\n",
              " \"n't\",\n",
              " 'associated',\n",
              " 'before',\n",
              " 'reported',\n",
              " 'those',\n",
              " 'nonsteroidal',\n",
              " 'change',\n",
              " 'chronic',\n",
              " 'trial',\n",
              " 'week',\n",
              " 'vs',\n",
              " 'doses',\n",
              " 'pressure',\n",
              " 'differences',\n",
              " 'gastric',\n",
              " 'relief',\n",
              " 'visual',\n",
              " 'blind',\n",
              " 'who',\n",
              " 'corneal',\n",
              " 'subjects',\n",
              " 'cholesterol',\n",
              " 'could',\n",
              " 'abdominal',\n",
              " 'x',\n",
              " 'respiratory',\n",
              " 'w',\n",
              " 'breast',\n",
              " 'while',\n",
              " 'values',\n",
              " 'containing',\n",
              " 'ca',\n",
              " 'either',\n",
              " 'tissue',\n",
              " 'events',\n",
              " 'due',\n",
              " 'investigated',\n",
              " 'decrease',\n",
              " 'post',\n",
              " 'given',\n",
              " 'fatigue',\n",
              " 'parameters',\n",
              " 'dreams',\n",
              " 'absorption',\n",
              " 'tremor',\n",
              " 'within',\n",
              " 'order',\n",
              " 'urine',\n",
              " 'mm',\n",
              " 'knee',\n",
              " 'steroidal',\n",
              " 'developed',\n",
              " 'four',\n",
              " 'ratio',\n",
              " 'brain',\n",
              " 'years',\n",
              " 'indomethacin',\n",
              " 'properties',\n",
              " 'phase',\n",
              " 'auc',\n",
              " 'safety',\n",
              " 'side',\n",
              " 'measured',\n",
              " 'v',\n",
              " 'assessed',\n",
              " 'attacks',\n",
              " 'new',\n",
              " 'attack',\n",
              " 'stiffness',\n",
              " 'liquid',\n",
              " 'e',\n",
              " 'delivery',\n",
              " 'human',\n",
              " 'compare',\n",
              " 'action',\n",
              " 'hemorrhage',\n",
              " 'any',\n",
              " 'statistically',\n",
              " 'number',\n",
              " 'k',\n",
              " 'ng',\n",
              " 'reduction',\n",
              " 'such',\n",
              " 'times',\n",
              " 'medication',\n",
              " 'kidney',\n",
              " 'active',\n",
              " 'included',\n",
              " 'dry',\n",
              " 'development',\n",
              " 'sustained',\n",
              " 'oa',\n",
              " 'size',\n",
              " 'deficit',\n",
              " 'vivo',\n",
              " 'therapeutic',\n",
              " 'rage',\n",
              " 'better',\n",
              " 'failure',\n",
              " 'process',\n",
              " 'cardiac',\n",
              " 'potential',\n",
              " 'type',\n",
              " 'form',\n",
              " 'primary',\n",
              " 'osteoarthritis',\n",
              " 'eyes',\n",
              " 'minutes',\n",
              " 'related',\n",
              " 'ulcer',\n",
              " 'scale',\n",
              " 'through',\n",
              " 'applied',\n",
              " 'so',\n",
              " 'tolerability',\n",
              " 'samples',\n",
              " 'carcinoma',\n",
              " 'sleepy',\n",
              " 'dependent',\n",
              " 'bioavailability',\n",
              " 'addition',\n",
              " 'evaluate',\n",
              " 'taste',\n",
              " 'discomfort',\n",
              " 'without',\n",
              " 'coated',\n",
              " 'range',\n",
              " 'local',\n",
              " 'our',\n",
              " 'determined',\n",
              " 'healthy',\n",
              " 'baseline',\n",
              " 'lipitor',\n",
              " 'male',\n",
              " 'ii',\n",
              " 'revealed',\n",
              " 'scores',\n",
              " 'tired',\n",
              " 'na',\n",
              " 'products',\n",
              " 'good',\n",
              " 'greater',\n",
              " 'same',\n",
              " 'secondary',\n",
              " 'night',\n",
              " 'demonstrated',\n",
              " 'makes',\n",
              " 'vomiting',\n",
              " 'matrix',\n",
              " 'psychotic',\n",
              " 'severe',\n",
              " 'daytime',\n",
              " 'infections',\n",
              " 'difficulty',\n",
              " 'normal',\n",
              " 'mice',\n",
              " 'ocular',\n",
              " 'formation',\n",
              " 'mechanism',\n",
              " 'aqueous',\n",
              " 'alone',\n",
              " 'temperature',\n",
              " 'cerebral',\n",
              " 'wide',\n",
              " 'treatments',\n",
              " 'numbness',\n",
              " 'stomach',\n",
              " 'randomly',\n",
              " 'middle',\n",
              " 'very',\n",
              " 'sweating',\n",
              " 'pulmonary',\n",
              " 'rheumatoid',\n",
              " 'suggest',\n",
              " 'aim',\n",
              " 'free',\n",
              " 'they',\n",
              " 'about',\n",
              " 'agent',\n",
              " 'per',\n",
              " 'hour',\n",
              " 'inhibitor',\n",
              " 'sensation',\n",
              " 'polymer',\n",
              " 'indicated',\n",
              " 'shown',\n",
              " 'inhibition',\n",
              " 'area',\n",
              " 'cox',\n",
              " 'hallucinations',\n",
              " 'improvement',\n",
              " 'hypertension',\n",
              " 'end',\n",
              " 'standard',\n",
              " 'volunteers',\n",
              " 'further',\n",
              " 'cancer',\n",
              " 'whereas',\n",
              " 'risk',\n",
              " 'asleep',\n",
              " 'animals',\n",
              " 'irritation',\n",
              " 'presence',\n",
              " 'still',\n",
              " 'exposure',\n",
              " 'quality',\n",
              " 'facial',\n",
              " 'zombie',\n",
              " 'available',\n",
              " 'followed',\n",
              " 'various',\n",
              " 'dependence',\n",
              " 'moderate',\n",
              " 'early',\n",
              " 'dysfunction',\n",
              " 'intensity',\n",
              " 'fluid',\n",
              " 'localised',\n",
              " 'aggravated',\n",
              " 'death',\n",
              " 'sleepiness',\n",
              " 'dermatitis',\n",
              " 'versus',\n",
              " 'growth',\n",
              " 'female',\n",
              " 'systemic',\n",
              " 'dosage',\n",
              " 'hepatic',\n",
              " 'pre',\n",
              " 'case',\n",
              " 'ibuprofen',\n",
              " 'term',\n",
              " 'trials',\n",
              " 'conducted',\n",
              " 'distress',\n",
              " 'agents',\n",
              " 'prolonged',\n",
              " 'months',\n",
              " 'cases',\n",
              " 'urinary',\n",
              " 'elevated',\n",
              " 'evaluation',\n",
              " 'depressive',\n",
              " 'permeation',\n",
              " 'some',\n",
              " 'suicidal',\n",
              " 'cataract',\n",
              " 'protein',\n",
              " 'de',\n",
              " 'six',\n",
              " 'experimental',\n",
              " 'exhaustion',\n",
              " 'relative',\n",
              " 'onset',\n",
              " 'content',\n",
              " 'multiple',\n",
              " 'microspheres',\n",
              " 'anemia',\n",
              " 'damage',\n",
              " 'divided',\n",
              " 'anger',\n",
              " 'calcium',\n",
              " 'rat',\n",
              " 'although',\n",
              " 'including',\n",
              " 'social',\n",
              " 'surface',\n",
              " 'among',\n",
              " 'painful',\n",
              " 'need',\n",
              " 'complex',\n",
              " 'age',\n",
              " 'being',\n",
              " 'vascular',\n",
              " 'produced',\n",
              " 'resulted',\n",
              " 'nightmares',\n",
              " 'down',\n",
              " 'vas',\n",
              " 'necrosis',\n",
              " 'determine',\n",
              " 'profiles',\n",
              " 'profile',\n",
              " 'tolerated',\n",
              " 'combined',\n",
              " 'density',\n",
              " 'mild',\n",
              " 'peak',\n",
              " 'vehicle',\n",
              " 'arrest',\n",
              " \"'m\",\n",
              " 'physical',\n",
              " 'pharmaceutical',\n",
              " 'result',\n",
              " 'alcohol',\n",
              " 'production',\n",
              " 'assessment',\n",
              " 'enteric',\n",
              " 'achieved',\n",
              " 'th',\n",
              " 'rapid',\n",
              " 'score',\n",
              " 'performance',\n",
              " 'should',\n",
              " 'disturbances',\n",
              " 'volume',\n",
              " 'glucose',\n",
              " 'compulsive',\n",
              " 'creatinine',\n",
              " 'product',\n",
              " 'carried',\n",
              " 'duration',\n",
              " 'cmax',\n",
              " 'diffusion',\n",
              " 'membrane',\n",
              " 'pharmacokinetic',\n",
              " 'technique',\n",
              " 'tested',\n",
              " 'investigate',\n",
              " 'impairment',\n",
              " 'improved',\n",
              " 'models',\n",
              " 'naproxen',\n",
              " 'complete',\n",
              " 'dizzy',\n",
              " 'uterine',\n",
              " 'spasm',\n",
              " 'third',\n",
              " 'caused',\n",
              " 'ci',\n",
              " 'phosphate',\n",
              " 'amount',\n",
              " 'review',\n",
              " 'cross',\n",
              " 'preparation',\n",
              " 'cm',\n",
              " 'peripheral',\n",
              " 'erythema',\n",
              " 'analgesia',\n",
              " 'overall',\n",
              " 'ventricular',\n",
              " 'pellets',\n",
              " 'o',\n",
              " 'diabetic',\n",
              " 'vision',\n",
              " 'efficiency',\n",
              " 'beads',\n",
              " 'flow',\n",
              " 'bite',\n",
              " 'evidence',\n",
              " 'solid',\n",
              " 'depersonalization',\n",
              " 'misoprostol',\n",
              " 'fever',\n",
              " 'nervous',\n",
              " 'rofecoxib',\n",
              " 'oedema',\n",
              " 'then',\n",
              " 'flare',\n",
              " 'five',\n",
              " 'common',\n",
              " 'findings',\n",
              " 'year',\n",
              " 'because',\n",
              " 'patch',\n",
              " 'second',\n",
              " 'lesions',\n",
              " 'seizures',\n",
              " 'medium',\n",
              " 'interactions',\n",
              " 'aspirin',\n",
              " 'tract',\n",
              " 'detection',\n",
              " 'saline',\n",
              " 'f',\n",
              " 'adderall',\n",
              " 'determination',\n",
              " 'outcome',\n",
              " 'cd',\n",
              " 'maximum',\n",
              " 'toxicity',\n",
              " 'least',\n",
              " 'pruritus',\n",
              " 'care',\n",
              " 'plus',\n",
              " 'chest',\n",
              " 'injuries',\n",
              " 'design',\n",
              " 'synthesis',\n",
              " 'tolerance',\n",
              " 'foot',\n",
              " 'according',\n",
              " 'prostaglandin',\n",
              " 'methods',\n",
              " 'once',\n",
              " 'eating',\n",
              " 'memory',\n",
              " 'major',\n",
              " 'extent',\n",
              " 'receiving',\n",
              " 'participants',\n",
              " 'comparison',\n",
              " 'preparations',\n",
              " 'neoplasm',\n",
              " 'intestinal',\n",
              " 'antiinflammatory',\n",
              " 'localized',\n",
              " 'dic',\n",
              " 'considered',\n",
              " 'count',\n",
              " 'inhibited',\n",
              " 'responses',\n",
              " 'vivid',\n",
              " 'comparable',\n",
              " 'solubility',\n",
              " 'thus',\n",
              " 'every',\n",
              " 'upper',\n",
              " 'highly',\n",
              " 'specific',\n",
              " 'long',\n",
              " 'reference',\n",
              " 'therefore',\n",
              " 'loaded',\n",
              " 'rates',\n",
              " 'capsules',\n",
              " 'degrees',\n",
              " 'small',\n",
              " 'interaction',\n",
              " 'microg',\n",
              " 'value',\n",
              " 'made',\n",
              " 'buffer',\n",
              " 'delayed',\n",
              " 'max',\n",
              " 'tooth',\n",
              " 'influence',\n",
              " 'show',\n",
              " 'diabetes',\n",
              " 'hplc',\n",
              " 'indicate',\n",
              " 'nauseous',\n",
              " 'characterized',\n",
              " 'shoulder',\n",
              " 'positive',\n",
              " 'cold',\n",
              " 'stress',\n",
              " 'incidence',\n",
              " 'novel',\n",
              " 'face',\n",
              " 'recorded',\n",
              " 'commercial',\n",
              " 'lesion',\n",
              " 'hunger',\n",
              " 'index',\n",
              " 'analyzed',\n",
              " 'abuse',\n",
              " 'central',\n",
              " 'affect',\n",
              " 'possible',\n",
              " 'lipid',\n",
              " 'asthma',\n",
              " 'intramuscular',\n",
              " 'ache',\n",
              " 'you',\n",
              " 'if',\n",
              " 'assess',\n",
              " 'examined',\n",
              " 'back',\n",
              " 'paracetamol',\n",
              " 'drops',\n",
              " 'old',\n",
              " 'degree',\n",
              " 'provided',\n",
              " 'cardiovascular',\n",
              " 'clearance',\n",
              " 'obsessive',\n",
              " 'superior',\n",
              " 'global',\n",
              " 'lung',\n",
              " 'modified',\n",
              " 'life',\n",
              " 'work',\n",
              " 'partial',\n",
              " 'taking',\n",
              " 'crazy',\n",
              " 'structure',\n",
              " 'lack',\n",
              " 'fear',\n",
              " 'activities',\n",
              " 'beta',\n",
              " 'malignant',\n",
              " 'tongue',\n",
              " 'will',\n",
              " 'genital',\n",
              " 'ketorolac',\n",
              " 'exhibited',\n",
              " 'emotional',\n",
              " 'drowsy',\n",
              " 'nm',\n",
              " 'expression',\n",
              " 'way',\n",
              " 'euphoric',\n",
              " 'candidiasis',\n",
              " 'chitosan',\n",
              " 'medications',\n",
              " 'released',\n",
              " 'even',\n",
              " 'provide',\n",
              " 'additional',\n",
              " 'enzyme',\n",
              " 'ldl',\n",
              " 'current',\n",
              " 'tissues',\n",
              " 'cream',\n",
              " 'simple',\n",
              " 'kinetics',\n",
              " 'short',\n",
              " 'inhibitors',\n",
              " 'withdrawals',\n",
              " 'twice',\n",
              " 'several',\n",
              " 'food',\n",
              " 'sneezing',\n",
              " 'cramps',\n",
              " 'transdermal',\n",
              " 'collected',\n",
              " 'against',\n",
              " 'sensitive',\n",
              " 'lipoprotein',\n",
              " 'impaired',\n",
              " 'mass',\n",
              " 'general',\n",
              " 'rabbits',\n",
              " 'increasing',\n",
              " 'tests',\n",
              " 'whether',\n",
              " 'alpha',\n",
              " 'hpmc',\n",
              " 'pge',\n",
              " 'cutaneous',\n",
              " 'excretion',\n",
              " 'obstruction',\n",
              " 'clinically',\n",
              " 'characteristics',\n",
              " 'extraction',\n",
              " 'nerve',\n",
              " 'terms',\n",
              " 'factor',\n",
              " 'sexual',\n",
              " 'hurt',\n",
              " 'scanning',\n",
              " 'solutions',\n",
              " 'artery',\n",
              " 'arthropod',\n",
              " 'particle',\n",
              " 'your',\n",
              " 'point',\n",
              " 'sweat',\n",
              " 'reduce',\n",
              " 'get',\n",
              " 'thirst',\n",
              " 'diet',\n",
              " 'soft',\n",
              " 'salt',\n",
              " 'objective',\n",
              " 'block',\n",
              " 'do',\n",
              " 'musculoskeletal',\n",
              " 'paranoid',\n",
              " 'receive',\n",
              " 'cyclooxygenase',\n",
              " 'intoxication',\n",
              " 'known',\n",
              " 'dfs',\n",
              " 'examination',\n",
              " 'faster',\n",
              " 'fractures',\n",
              " 'women',\n",
              " 'alternative',\n",
              " 'eudragit',\n",
              " 'excessive',\n",
              " 'management',\n",
              " 'chemical',\n",
              " 'enhanced',\n",
              " 'dcf',\n",
              " 'potent',\n",
              " 'research',\n",
              " 'role',\n",
              " 'urticaria',\n",
              " 'stability',\n",
              " 'experiments',\n",
              " 'hungry',\n",
              " 'nasal',\n",
              " 'zero',\n",
              " 'laser',\n",
              " 'crossover',\n",
              " 'hand',\n",
              " 'erection',\n",
              " 'important',\n",
              " 'tendency',\n",
              " 'dpsgc',\n",
              " 'analgesics',\n",
              " 'diarrhea',\n",
              " 'binding',\n",
              " 'right',\n",
              " 'open',\n",
              " 'interest',\n",
              " 'generalized',\n",
              " 'aged',\n",
              " 'episode',\n",
              " 'microm',\n",
              " 'celecoxib',\n",
              " 'bulimia',\n",
              " 'factors',\n",
              " 'across',\n",
              " 'arthrotec',\n",
              " 'steroid',\n",
              " 'consciousness',\n",
              " 'capsule',\n",
              " 'tmax',\n",
              " 'acetaminophen',\n",
              " 'microscopy',\n",
              " 'metabolism',\n",
              " 'cambia',\n",
              " 'laboratory',\n",
              " 'animal',\n",
              " 'compounds',\n",
              " 'libido',\n",
              " 'penetration',\n",
              " 'hepatitis',\n",
              " 'headaches',\n",
              " 'personality',\n",
              " 'tingling',\n",
              " 'neoplasms',\n",
              " 'selected',\n",
              " 'media',\n",
              " 'pattern',\n",
              " 'lightheadedness',\n",
              " 'does',\n",
              " 'absence',\n",
              " 'selective',\n",
              " 'average',\n",
              " 'mouth',\n",
              " 'co',\n",
              " 'required',\n",
              " 'operative',\n",
              " 'forms',\n",
              " 'vasculitis',\n",
              " 'since',\n",
              " 'criteria',\n",
              " 'colitis',\n",
              " 'cause',\n",
              " 'substance',\n",
              " 'tenderness',\n",
              " 'health',\n",
              " 'adult',\n",
              " 'make',\n",
              " 'electron',\n",
              " 'altered',\n",
              " 'peg',\n",
              " 'df',\n",
              " 'sr',\n",
              " 'limb',\n",
              " 'via',\n",
              " 'information',\n",
              " 'tumor',\n",
              " 'overdose',\n",
              " 'systems',\n",
              " 'r',\n",
              " 'bleeding',\n",
              " 'psychosis',\n",
              " 'activation',\n",
              " 'making',\n",
              " 'ophthalmic',\n",
              " 'cs',\n",
              " 'speech',\n",
              " 'occurred',\n",
              " 'coronary',\n",
              " 'hp',\n",
              " 'oil',\n",
              " 'collagen',\n",
              " 'distribution',\n",
              " 'ear',\n",
              " 'ejaculation',\n",
              " 'insufficiency',\n",
              " 'prior',\n",
              " 'gi',\n",
              " 'randomised',\n",
              " 'effectiveness',\n",
              " 'nail',\n",
              " 'electrocardiogram',\n",
              " 'colic',\n",
              " 'bacterial',\n",
              " 'affected',\n",
              " 'fast',\n",
              " 'percentage',\n",
              " 'thinking',\n",
              " 'widely',\n",
              " 'ak',\n",
              " 'needed',\n",
              " 'compound',\n",
              " 'movement',\n",
              " 'suggested',\n",
              " 'aes',\n",
              " 'arterial',\n",
              " 'reactions',\n",
              " 'completely',\n",
              " 'chromatography',\n",
              " 'detected',\n",
              " 'serious',\n",
              " 'target',\n",
              " 'follow',\n",
              " 'medical',\n",
              " 'hr',\n",
              " ...]"
            ]
          },
          "metadata": {
            "tags": []
          },
          "execution_count": 18
        }
      ]
    },
    {
      "cell_type": "code",
      "metadata": {
        "id": "yPWr03mls3VT",
        "outputId": "6aa012f8-cfd7-4823-b588-9dd7de0c400a",
        "colab": {
          "base_uri": "https://localhost:8080/",
          "height": 17
        }
      },
      "source": [
        "model_path = path/'models'\n",
        "model_path.mkdir(exist_ok=True)\n",
        "url = 'http://files.fast.ai/models/wt103_v1/'\n",
        "download_url(f'{url}lstm_wt103.pth', model_path/'lstm_wt103.pth')\n",
        "download_url(f'{url}itos_wt103.pkl', model_path/'itos_wt103.pkl')"
      ],
      "execution_count": 19,
      "outputs": [
        {
          "output_type": "display_data",
          "data": {
            "text/html": [
              ""
            ],
            "text/plain": [
              "<IPython.core.display.HTML object>"
            ]
          },
          "metadata": {
            "tags": []
          }
        },
        {
          "output_type": "display_data",
          "data": {
            "text/html": [
              ""
            ],
            "text/plain": [
              "<IPython.core.display.HTML object>"
            ]
          },
          "metadata": {
            "tags": []
          }
        }
      ]
    },
    {
      "cell_type": "code",
      "metadata": {
        "id": "JRzvWg8RtGGr",
        "outputId": "118aec4b-60ad-469a-a67e-fa579abb5541",
        "colab": {
          "base_uri": "https://localhost:8080/",
          "height": 34
        }
      },
      "source": [
        "learn = language_model_learner(data_lm, AWD_LSTM, drop_mult=0.5)"
      ],
      "execution_count": 20,
      "outputs": [
        {
          "output_type": "stream",
          "text": [
            "Downloading https://s3.amazonaws.com/fast-ai-modelzoo/wt103-fwd.tgz\n"
          ],
          "name": "stdout"
        },
        {
          "output_type": "display_data",
          "data": {
            "text/html": [
              ""
            ],
            "text/plain": [
              "<IPython.core.display.HTML object>"
            ]
          },
          "metadata": {
            "tags": []
          }
        }
      ]
    },
    {
      "cell_type": "code",
      "metadata": {
        "id": "xKK7GeBev7Xn",
        "outputId": "6cb15b60-9264-49c8-c97f-a6da414ac7f0",
        "colab": {
          "base_uri": "https://localhost:8080/",
          "height": 80
        }
      },
      "source": [
        "learn.fit_one_cycle(1, 1e-2)"
      ],
      "execution_count": 21,
      "outputs": [
        {
          "output_type": "display_data",
          "data": {
            "text/html": [
              "<table border=\"1\" class=\"dataframe\">\n",
              "  <thead>\n",
              "    <tr style=\"text-align: left;\">\n",
              "      <th>epoch</th>\n",
              "      <th>train_loss</th>\n",
              "      <th>valid_loss</th>\n",
              "      <th>accuracy</th>\n",
              "      <th>time</th>\n",
              "    </tr>\n",
              "  </thead>\n",
              "  <tbody>\n",
              "    <tr>\n",
              "      <td>0</td>\n",
              "      <td>4.836923</td>\n",
              "      <td>4.222463</td>\n",
              "      <td>0.343939</td>\n",
              "      <td>17:25</td>\n",
              "    </tr>\n",
              "  </tbody>\n",
              "</table>"
            ],
            "text/plain": [
              "<IPython.core.display.HTML object>"
            ]
          },
          "metadata": {
            "tags": []
          }
        }
      ]
    },
    {
      "cell_type": "code",
      "metadata": {
        "id": "iB7rHGQCwd12",
        "outputId": "0aaff0d6-62dc-4180-fce6-13398c1f7c9a",
        "colab": {
          "base_uri": "https://localhost:8080/",
          "height": 80
        }
      },
      "source": [
        "learn.fit_one_cycle(1, 1e-2)"
      ],
      "execution_count": 22,
      "outputs": [
        {
          "output_type": "display_data",
          "data": {
            "text/html": [
              "<table border=\"1\" class=\"dataframe\">\n",
              "  <thead>\n",
              "    <tr style=\"text-align: left;\">\n",
              "      <th>epoch</th>\n",
              "      <th>train_loss</th>\n",
              "      <th>valid_loss</th>\n",
              "      <th>accuracy</th>\n",
              "      <th>time</th>\n",
              "    </tr>\n",
              "  </thead>\n",
              "  <tbody>\n",
              "    <tr>\n",
              "      <td>0</td>\n",
              "      <td>4.024521</td>\n",
              "      <td>3.824425</td>\n",
              "      <td>0.380718</td>\n",
              "      <td>17:21</td>\n",
              "    </tr>\n",
              "  </tbody>\n",
              "</table>"
            ],
            "text/plain": [
              "<IPython.core.display.HTML object>"
            ]
          },
          "metadata": {
            "tags": []
          }
        }
      ]
    },
    {
      "cell_type": "code",
      "metadata": {
        "id": "_BnSuAeCwkBe",
        "outputId": "d1ef5114-0111-4fb7-9492-e622376163c4",
        "colab": {
          "base_uri": "https://localhost:8080/",
          "height": 80
        }
      },
      "source": [
        "learn.fit_one_cycle(1, 1e-3)"
      ],
      "execution_count": 23,
      "outputs": [
        {
          "output_type": "display_data",
          "data": {
            "text/html": [
              "<table border=\"1\" class=\"dataframe\">\n",
              "  <thead>\n",
              "    <tr style=\"text-align: left;\">\n",
              "      <th>epoch</th>\n",
              "      <th>train_loss</th>\n",
              "      <th>valid_loss</th>\n",
              "      <th>accuracy</th>\n",
              "      <th>time</th>\n",
              "    </tr>\n",
              "  </thead>\n",
              "  <tbody>\n",
              "    <tr>\n",
              "      <td>0</td>\n",
              "      <td>3.726233</td>\n",
              "      <td>3.780058</td>\n",
              "      <td>0.384856</td>\n",
              "      <td>17:25</td>\n",
              "    </tr>\n",
              "  </tbody>\n",
              "</table>"
            ],
            "text/plain": [
              "<IPython.core.display.HTML object>"
            ]
          },
          "metadata": {
            "tags": []
          }
        }
      ]
    },
    {
      "cell_type": "code",
      "metadata": {
        "id": "MuTm-RFjwrEX",
        "outputId": "d47cae2f-2c70-45c2-beb0-386b956f3646",
        "colab": {
          "base_uri": "https://localhost:8080/",
          "height": 80
        }
      },
      "source": [
        "learn.fit_one_cycle(1, 1e-3)"
      ],
      "execution_count": 24,
      "outputs": [
        {
          "output_type": "display_data",
          "data": {
            "text/html": [
              "<table border=\"1\" class=\"dataframe\">\n",
              "  <thead>\n",
              "    <tr style=\"text-align: left;\">\n",
              "      <th>epoch</th>\n",
              "      <th>train_loss</th>\n",
              "      <th>valid_loss</th>\n",
              "      <th>accuracy</th>\n",
              "      <th>time</th>\n",
              "    </tr>\n",
              "  </thead>\n",
              "  <tbody>\n",
              "    <tr>\n",
              "      <td>0</td>\n",
              "      <td>3.676333</td>\n",
              "      <td>3.746818</td>\n",
              "      <td>0.388273</td>\n",
              "      <td>17:23</td>\n",
              "    </tr>\n",
              "  </tbody>\n",
              "</table>"
            ],
            "text/plain": [
              "<IPython.core.display.HTML object>"
            ]
          },
          "metadata": {
            "tags": []
          }
        }
      ]
    },
    {
      "cell_type": "code",
      "metadata": {
        "id": "1Er2ExO8wr7Y"
      },
      "source": [
        "learn.save_encoder('TwADR_pubmed_fold9_first')"
      ],
      "execution_count": 25,
      "outputs": []
    },
    {
      "cell_type": "code",
      "metadata": {
        "id": "z52cZs2qwvad",
        "outputId": "9883cb6d-5cff-44b8-d692-c39c1852bb90",
        "colab": {
          "base_uri": "https://localhost:8080/",
          "height": 80
        }
      },
      "source": [
        "learn = text_classifier_learner(data_clas,AWD_LSTM, drop_mult=0.5)\n",
        "learn.load_encoder('TwADR_pubmed_fold9_first')\n",
        "learn.fit_one_cycle(1, 1e-2)"
      ],
      "execution_count": 26,
      "outputs": [
        {
          "output_type": "display_data",
          "data": {
            "text/html": [
              "<table border=\"1\" class=\"dataframe\">\n",
              "  <thead>\n",
              "    <tr style=\"text-align: left;\">\n",
              "      <th>epoch</th>\n",
              "      <th>train_loss</th>\n",
              "      <th>valid_loss</th>\n",
              "      <th>accuracy</th>\n",
              "      <th>time</th>\n",
              "    </tr>\n",
              "  </thead>\n",
              "  <tbody>\n",
              "    <tr>\n",
              "      <td>0</td>\n",
              "      <td>7.245729</td>\n",
              "      <td>6.386784</td>\n",
              "      <td>0.100000</td>\n",
              "      <td>00:23</td>\n",
              "    </tr>\n",
              "  </tbody>\n",
              "</table>"
            ],
            "text/plain": [
              "<IPython.core.display.HTML object>"
            ]
          },
          "metadata": {
            "tags": []
          }
        }
      ]
    },
    {
      "cell_type": "code",
      "metadata": {
        "id": "ImwQP1PJwzxd",
        "outputId": "4b759fc8-e943-487c-8e24-e011eb3e6518",
        "colab": {
          "base_uri": "https://localhost:8080/",
          "height": 80
        }
      },
      "source": [
        "learn.freeze_to(-2)\n",
        "learn.fit_one_cycle(1, slice(5e-3/2., 5e-3))"
      ],
      "execution_count": 27,
      "outputs": [
        {
          "output_type": "display_data",
          "data": {
            "text/html": [
              "<table border=\"1\" class=\"dataframe\">\n",
              "  <thead>\n",
              "    <tr style=\"text-align: left;\">\n",
              "      <th>epoch</th>\n",
              "      <th>train_loss</th>\n",
              "      <th>valid_loss</th>\n",
              "      <th>accuracy</th>\n",
              "      <th>time</th>\n",
              "    </tr>\n",
              "  </thead>\n",
              "  <tbody>\n",
              "    <tr>\n",
              "      <td>0</td>\n",
              "      <td>6.276859</td>\n",
              "      <td>5.085742</td>\n",
              "      <td>0.183333</td>\n",
              "      <td>00:26</td>\n",
              "    </tr>\n",
              "  </tbody>\n",
              "</table>"
            ],
            "text/plain": [
              "<IPython.core.display.HTML object>"
            ]
          },
          "metadata": {
            "tags": []
          }
        }
      ]
    },
    {
      "cell_type": "code",
      "metadata": {
        "id": "Owff_BJXw53u",
        "outputId": "9060b9cc-90b3-41af-e3b9-6a497de96c98",
        "colab": {
          "base_uri": "https://localhost:8080/",
          "height": 80
        }
      },
      "source": [
        "learn.unfreeze()\n",
        "learn.fit_one_cycle(1, slice(2e-3/100, 2e-3))"
      ],
      "execution_count": 28,
      "outputs": [
        {
          "output_type": "display_data",
          "data": {
            "text/html": [
              "<table border=\"1\" class=\"dataframe\">\n",
              "  <thead>\n",
              "    <tr style=\"text-align: left;\">\n",
              "      <th>epoch</th>\n",
              "      <th>train_loss</th>\n",
              "      <th>valid_loss</th>\n",
              "      <th>accuracy</th>\n",
              "      <th>time</th>\n",
              "    </tr>\n",
              "  </thead>\n",
              "  <tbody>\n",
              "    <tr>\n",
              "      <td>0</td>\n",
              "      <td>5.740279</td>\n",
              "      <td>4.698279</td>\n",
              "      <td>0.200000</td>\n",
              "      <td>01:08</td>\n",
              "    </tr>\n",
              "  </tbody>\n",
              "</table>"
            ],
            "text/plain": [
              "<IPython.core.display.HTML object>"
            ]
          },
          "metadata": {
            "tags": []
          }
        }
      ]
    },
    {
      "cell_type": "code",
      "metadata": {
        "id": "lqAyu56V8Waq",
        "outputId": "e434178a-7a1c-43dd-a67e-2f9d210ec53f",
        "colab": {
          "base_uri": "https://localhost:8080/",
          "height": 111
        }
      },
      "source": [
        "learn.fit_one_cycle(2, slice(2e-3/100, 2e-3))"
      ],
      "execution_count": 29,
      "outputs": [
        {
          "output_type": "display_data",
          "data": {
            "text/html": [
              "<table border=\"1\" class=\"dataframe\">\n",
              "  <thead>\n",
              "    <tr style=\"text-align: left;\">\n",
              "      <th>epoch</th>\n",
              "      <th>train_loss</th>\n",
              "      <th>valid_loss</th>\n",
              "      <th>accuracy</th>\n",
              "      <th>time</th>\n",
              "    </tr>\n",
              "  </thead>\n",
              "  <tbody>\n",
              "    <tr>\n",
              "      <td>0</td>\n",
              "      <td>5.428067</td>\n",
              "      <td>4.323278</td>\n",
              "      <td>0.291667</td>\n",
              "      <td>01:09</td>\n",
              "    </tr>\n",
              "    <tr>\n",
              "      <td>1</td>\n",
              "      <td>5.193270</td>\n",
              "      <td>4.186599</td>\n",
              "      <td>0.308333</td>\n",
              "      <td>01:11</td>\n",
              "    </tr>\n",
              "  </tbody>\n",
              "</table>"
            ],
            "text/plain": [
              "<IPython.core.display.HTML object>"
            ]
          },
          "metadata": {
            "tags": []
          }
        }
      ]
    },
    {
      "cell_type": "code",
      "metadata": {
        "id": "a7I1xMRp8bUd",
        "outputId": "a4c3e6b9-395b-4a35-82e8-e0c730cefbd9",
        "colab": {
          "base_uri": "https://localhost:8080/",
          "height": 111
        }
      },
      "source": [
        "learn.fit_one_cycle(2, slice(2e-3/100, 2e-3))"
      ],
      "execution_count": 30,
      "outputs": [
        {
          "output_type": "display_data",
          "data": {
            "text/html": [
              "<table border=\"1\" class=\"dataframe\">\n",
              "  <thead>\n",
              "    <tr style=\"text-align: left;\">\n",
              "      <th>epoch</th>\n",
              "      <th>train_loss</th>\n",
              "      <th>valid_loss</th>\n",
              "      <th>accuracy</th>\n",
              "      <th>time</th>\n",
              "    </tr>\n",
              "  </thead>\n",
              "  <tbody>\n",
              "    <tr>\n",
              "      <td>0</td>\n",
              "      <td>4.944137</td>\n",
              "      <td>4.038934</td>\n",
              "      <td>0.325000</td>\n",
              "      <td>01:06</td>\n",
              "    </tr>\n",
              "    <tr>\n",
              "      <td>1</td>\n",
              "      <td>4.735382</td>\n",
              "      <td>3.962600</td>\n",
              "      <td>0.333333</td>\n",
              "      <td>01:05</td>\n",
              "    </tr>\n",
              "  </tbody>\n",
              "</table>"
            ],
            "text/plain": [
              "<IPython.core.display.HTML object>"
            ]
          },
          "metadata": {
            "tags": []
          }
        }
      ]
    },
    {
      "cell_type": "code",
      "metadata": {
        "id": "UAnti-XmGVfO",
        "outputId": "0a5bdfe8-21ec-41c4-ee4a-3d882487138a",
        "colab": {
          "base_uri": "https://localhost:8080/",
          "height": 111
        }
      },
      "source": [
        "learn.fit_one_cycle(2, slice(2e-3/100, 2e-3))"
      ],
      "execution_count": 31,
      "outputs": [
        {
          "output_type": "display_data",
          "data": {
            "text/html": [
              "<table border=\"1\" class=\"dataframe\">\n",
              "  <thead>\n",
              "    <tr style=\"text-align: left;\">\n",
              "      <th>epoch</th>\n",
              "      <th>train_loss</th>\n",
              "      <th>valid_loss</th>\n",
              "      <th>accuracy</th>\n",
              "      <th>time</th>\n",
              "    </tr>\n",
              "  </thead>\n",
              "  <tbody>\n",
              "    <tr>\n",
              "      <td>0</td>\n",
              "      <td>4.523766</td>\n",
              "      <td>3.832071</td>\n",
              "      <td>0.350000</td>\n",
              "      <td>01:06</td>\n",
              "    </tr>\n",
              "    <tr>\n",
              "      <td>1</td>\n",
              "      <td>4.392803</td>\n",
              "      <td>3.699164</td>\n",
              "      <td>0.325000</td>\n",
              "      <td>01:08</td>\n",
              "    </tr>\n",
              "  </tbody>\n",
              "</table>"
            ],
            "text/plain": [
              "<IPython.core.display.HTML object>"
            ]
          },
          "metadata": {
            "tags": []
          }
        }
      ]
    },
    {
      "cell_type": "code",
      "metadata": {
        "id": "bIft7W25GwSu",
        "outputId": "c15ff0de-6bc6-42e7-e522-044651a3d780",
        "colab": {
          "base_uri": "https://localhost:8080/",
          "height": 111
        }
      },
      "source": [
        "learn.fit_one_cycle(2, slice(2e-3/100, 2e-3))"
      ],
      "execution_count": 32,
      "outputs": [
        {
          "output_type": "display_data",
          "data": {
            "text/html": [
              "<table border=\"1\" class=\"dataframe\">\n",
              "  <thead>\n",
              "    <tr style=\"text-align: left;\">\n",
              "      <th>epoch</th>\n",
              "      <th>train_loss</th>\n",
              "      <th>valid_loss</th>\n",
              "      <th>accuracy</th>\n",
              "      <th>time</th>\n",
              "    </tr>\n",
              "  </thead>\n",
              "  <tbody>\n",
              "    <tr>\n",
              "      <td>0</td>\n",
              "      <td>4.173926</td>\n",
              "      <td>3.641449</td>\n",
              "      <td>0.358333</td>\n",
              "      <td>01:06</td>\n",
              "    </tr>\n",
              "    <tr>\n",
              "      <td>1</td>\n",
              "      <td>4.037714</td>\n",
              "      <td>3.604354</td>\n",
              "      <td>0.375000</td>\n",
              "      <td>01:08</td>\n",
              "    </tr>\n",
              "  </tbody>\n",
              "</table>"
            ],
            "text/plain": [
              "<IPython.core.display.HTML object>"
            ]
          },
          "metadata": {
            "tags": []
          }
        }
      ]
    },
    {
      "cell_type": "code",
      "metadata": {
        "id": "EEHszVRvGyFt",
        "outputId": "f1260bef-ccb1-48ab-9c30-b7bc4a4b86c2",
        "colab": {
          "base_uri": "https://localhost:8080/",
          "height": 111
        }
      },
      "source": [
        "learn.fit_one_cycle(2, slice(2e-3/100, 2e-3))"
      ],
      "execution_count": 33,
      "outputs": [
        {
          "output_type": "display_data",
          "data": {
            "text/html": [
              "<table border=\"1\" class=\"dataframe\">\n",
              "  <thead>\n",
              "    <tr style=\"text-align: left;\">\n",
              "      <th>epoch</th>\n",
              "      <th>train_loss</th>\n",
              "      <th>valid_loss</th>\n",
              "      <th>accuracy</th>\n",
              "      <th>time</th>\n",
              "    </tr>\n",
              "  </thead>\n",
              "  <tbody>\n",
              "    <tr>\n",
              "      <td>0</td>\n",
              "      <td>3.860774</td>\n",
              "      <td>3.599500</td>\n",
              "      <td>0.366667</td>\n",
              "      <td>01:07</td>\n",
              "    </tr>\n",
              "    <tr>\n",
              "      <td>1</td>\n",
              "      <td>3.742316</td>\n",
              "      <td>3.526067</td>\n",
              "      <td>0.400000</td>\n",
              "      <td>01:09</td>\n",
              "    </tr>\n",
              "  </tbody>\n",
              "</table>"
            ],
            "text/plain": [
              "<IPython.core.display.HTML object>"
            ]
          },
          "metadata": {
            "tags": []
          }
        }
      ]
    },
    {
      "cell_type": "code",
      "metadata": {
        "id": "XsHfrhCHG3dN",
        "outputId": "b6609b6f-339a-4325-c61b-07e46487a930",
        "colab": {
          "base_uri": "https://localhost:8080/",
          "height": 173
        }
      },
      "source": [
        "learn.fit_one_cycle(4, slice(2e-3/100, 2e-3))"
      ],
      "execution_count": 34,
      "outputs": [
        {
          "output_type": "display_data",
          "data": {
            "text/html": [
              "<table border=\"1\" class=\"dataframe\">\n",
              "  <thead>\n",
              "    <tr style=\"text-align: left;\">\n",
              "      <th>epoch</th>\n",
              "      <th>train_loss</th>\n",
              "      <th>valid_loss</th>\n",
              "      <th>accuracy</th>\n",
              "      <th>time</th>\n",
              "    </tr>\n",
              "  </thead>\n",
              "  <tbody>\n",
              "    <tr>\n",
              "      <td>0</td>\n",
              "      <td>3.573823</td>\n",
              "      <td>3.507028</td>\n",
              "      <td>0.400000</td>\n",
              "      <td>01:11</td>\n",
              "    </tr>\n",
              "    <tr>\n",
              "      <td>1</td>\n",
              "      <td>3.479196</td>\n",
              "      <td>3.466616</td>\n",
              "      <td>0.375000</td>\n",
              "      <td>01:11</td>\n",
              "    </tr>\n",
              "    <tr>\n",
              "      <td>2</td>\n",
              "      <td>3.297896</td>\n",
              "      <td>3.346793</td>\n",
              "      <td>0.408333</td>\n",
              "      <td>01:07</td>\n",
              "    </tr>\n",
              "    <tr>\n",
              "      <td>3</td>\n",
              "      <td>3.172353</td>\n",
              "      <td>3.335024</td>\n",
              "      <td>0.408333</td>\n",
              "      <td>01:05</td>\n",
              "    </tr>\n",
              "  </tbody>\n",
              "</table>"
            ],
            "text/plain": [
              "<IPython.core.display.HTML object>"
            ]
          },
          "metadata": {
            "tags": []
          }
        }
      ]
    },
    {
      "cell_type": "code",
      "metadata": {
        "id": "0Zsd99isb9EQ",
        "outputId": "dd1b46d8-6d94-4060-ed25-5eb523a26ae3",
        "colab": {
          "base_uri": "https://localhost:8080/",
          "height": 173
        }
      },
      "source": [
        "learn.fit_one_cycle(4, slice(2e-3/100, 2e-3))"
      ],
      "execution_count": 35,
      "outputs": [
        {
          "output_type": "display_data",
          "data": {
            "text/html": [
              "<table border=\"1\" class=\"dataframe\">\n",
              "  <thead>\n",
              "    <tr style=\"text-align: left;\">\n",
              "      <th>epoch</th>\n",
              "      <th>train_loss</th>\n",
              "      <th>valid_loss</th>\n",
              "      <th>accuracy</th>\n",
              "      <th>time</th>\n",
              "    </tr>\n",
              "  </thead>\n",
              "  <tbody>\n",
              "    <tr>\n",
              "      <td>0</td>\n",
              "      <td>2.963335</td>\n",
              "      <td>3.327415</td>\n",
              "      <td>0.433333</td>\n",
              "      <td>01:07</td>\n",
              "    </tr>\n",
              "    <tr>\n",
              "      <td>1</td>\n",
              "      <td>2.889599</td>\n",
              "      <td>3.393071</td>\n",
              "      <td>0.400000</td>\n",
              "      <td>01:06</td>\n",
              "    </tr>\n",
              "    <tr>\n",
              "      <td>2</td>\n",
              "      <td>2.723500</td>\n",
              "      <td>3.320861</td>\n",
              "      <td>0.416667</td>\n",
              "      <td>01:08</td>\n",
              "    </tr>\n",
              "    <tr>\n",
              "      <td>3</td>\n",
              "      <td>2.579089</td>\n",
              "      <td>3.296616</td>\n",
              "      <td>0.425000</td>\n",
              "      <td>01:10</td>\n",
              "    </tr>\n",
              "  </tbody>\n",
              "</table>"
            ],
            "text/plain": [
              "<IPython.core.display.HTML object>"
            ]
          },
          "metadata": {
            "tags": []
          }
        }
      ]
    },
    {
      "cell_type": "code",
      "metadata": {
        "id": "atNWNKDFPbuI",
        "outputId": "b5ef3048-87fb-4e0a-e676-d3abd7fb0e67",
        "colab": {
          "base_uri": "https://localhost:8080/",
          "height": 173
        }
      },
      "source": [
        "learn.fit_one_cycle(4, slice(2e-3/100, 2e-3))"
      ],
      "execution_count": 36,
      "outputs": [
        {
          "output_type": "display_data",
          "data": {
            "text/html": [
              "<table border=\"1\" class=\"dataframe\">\n",
              "  <thead>\n",
              "    <tr style=\"text-align: left;\">\n",
              "      <th>epoch</th>\n",
              "      <th>train_loss</th>\n",
              "      <th>valid_loss</th>\n",
              "      <th>accuracy</th>\n",
              "      <th>time</th>\n",
              "    </tr>\n",
              "  </thead>\n",
              "  <tbody>\n",
              "    <tr>\n",
              "      <td>0</td>\n",
              "      <td>2.426032</td>\n",
              "      <td>3.263316</td>\n",
              "      <td>0.450000</td>\n",
              "      <td>01:15</td>\n",
              "    </tr>\n",
              "    <tr>\n",
              "      <td>1</td>\n",
              "      <td>2.381757</td>\n",
              "      <td>3.307495</td>\n",
              "      <td>0.425000</td>\n",
              "      <td>01:07</td>\n",
              "    </tr>\n",
              "    <tr>\n",
              "      <td>2</td>\n",
              "      <td>2.223342</td>\n",
              "      <td>3.313095</td>\n",
              "      <td>0.400000</td>\n",
              "      <td>01:11</td>\n",
              "    </tr>\n",
              "    <tr>\n",
              "      <td>3</td>\n",
              "      <td>2.068566</td>\n",
              "      <td>3.236233</td>\n",
              "      <td>0.425000</td>\n",
              "      <td>01:11</td>\n",
              "    </tr>\n",
              "  </tbody>\n",
              "</table>"
            ],
            "text/plain": [
              "<IPython.core.display.HTML object>"
            ]
          },
          "metadata": {
            "tags": []
          }
        }
      ]
    },
    {
      "cell_type": "code",
      "metadata": {
        "id": "rKrBTZ0T1uVA",
        "outputId": "61567f94-c3f8-4d4a-a75a-3eb8abf2d140",
        "colab": {
          "base_uri": "https://localhost:8080/",
          "height": 173
        }
      },
      "source": [
        "learn.fit_one_cycle(4, slice(2e-3/100, 2e-3))"
      ],
      "execution_count": 37,
      "outputs": [
        {
          "output_type": "display_data",
          "data": {
            "text/html": [
              "<table border=\"1\" class=\"dataframe\">\n",
              "  <thead>\n",
              "    <tr style=\"text-align: left;\">\n",
              "      <th>epoch</th>\n",
              "      <th>train_loss</th>\n",
              "      <th>valid_loss</th>\n",
              "      <th>accuracy</th>\n",
              "      <th>time</th>\n",
              "    </tr>\n",
              "  </thead>\n",
              "  <tbody>\n",
              "    <tr>\n",
              "      <td>0</td>\n",
              "      <td>1.913295</td>\n",
              "      <td>3.317721</td>\n",
              "      <td>0.408333</td>\n",
              "      <td>01:06</td>\n",
              "    </tr>\n",
              "    <tr>\n",
              "      <td>1</td>\n",
              "      <td>1.890129</td>\n",
              "      <td>3.353286</td>\n",
              "      <td>0.383333</td>\n",
              "      <td>01:11</td>\n",
              "    </tr>\n",
              "    <tr>\n",
              "      <td>2</td>\n",
              "      <td>1.738014</td>\n",
              "      <td>3.328673</td>\n",
              "      <td>0.450000</td>\n",
              "      <td>01:09</td>\n",
              "    </tr>\n",
              "    <tr>\n",
              "      <td>3</td>\n",
              "      <td>1.598168</td>\n",
              "      <td>3.304400</td>\n",
              "      <td>0.450000</td>\n",
              "      <td>01:10</td>\n",
              "    </tr>\n",
              "  </tbody>\n",
              "</table>"
            ],
            "text/plain": [
              "<IPython.core.display.HTML object>"
            ]
          },
          "metadata": {
            "tags": []
          }
        }
      ]
    },
    {
      "cell_type": "code",
      "metadata": {
        "id": "ajQC6WDg1yA9",
        "outputId": "cc238e0a-ab07-4238-e869-361535a9425b",
        "colab": {
          "base_uri": "https://localhost:8080/",
          "height": 173
        }
      },
      "source": [
        "learn.fit_one_cycle(4, slice(2e-3/100, 2e-3))"
      ],
      "execution_count": 38,
      "outputs": [
        {
          "output_type": "display_data",
          "data": {
            "text/html": [
              "<table border=\"1\" class=\"dataframe\">\n",
              "  <thead>\n",
              "    <tr style=\"text-align: left;\">\n",
              "      <th>epoch</th>\n",
              "      <th>train_loss</th>\n",
              "      <th>valid_loss</th>\n",
              "      <th>accuracy</th>\n",
              "      <th>time</th>\n",
              "    </tr>\n",
              "  </thead>\n",
              "  <tbody>\n",
              "    <tr>\n",
              "      <td>0</td>\n",
              "      <td>1.493916</td>\n",
              "      <td>3.442162</td>\n",
              "      <td>0.441667</td>\n",
              "      <td>01:11</td>\n",
              "    </tr>\n",
              "    <tr>\n",
              "      <td>1</td>\n",
              "      <td>1.513849</td>\n",
              "      <td>3.598176</td>\n",
              "      <td>0.450000</td>\n",
              "      <td>01:12</td>\n",
              "    </tr>\n",
              "    <tr>\n",
              "      <td>2</td>\n",
              "      <td>1.389174</td>\n",
              "      <td>3.550624</td>\n",
              "      <td>0.425000</td>\n",
              "      <td>01:07</td>\n",
              "    </tr>\n",
              "    <tr>\n",
              "      <td>3</td>\n",
              "      <td>1.278431</td>\n",
              "      <td>3.541938</td>\n",
              "      <td>0.408333</td>\n",
              "      <td>01:11</td>\n",
              "    </tr>\n",
              "  </tbody>\n",
              "</table>"
            ],
            "text/plain": [
              "<IPython.core.display.HTML object>"
            ]
          },
          "metadata": {
            "tags": []
          }
        }
      ]
    },
    {
      "cell_type": "code",
      "metadata": {
        "id": "KKydb0B4BKGk",
        "outputId": "73a86ada-4108-4f42-95af-5c0c4494e901",
        "colab": {
          "base_uri": "https://localhost:8080/",
          "height": 173
        }
      },
      "source": [
        "learn.fit_one_cycle(4, slice(2e-3/100, 2e-3))"
      ],
      "execution_count": 39,
      "outputs": [
        {
          "output_type": "display_data",
          "data": {
            "text/html": [
              "<table border=\"1\" class=\"dataframe\">\n",
              "  <thead>\n",
              "    <tr style=\"text-align: left;\">\n",
              "      <th>epoch</th>\n",
              "      <th>train_loss</th>\n",
              "      <th>valid_loss</th>\n",
              "      <th>accuracy</th>\n",
              "      <th>time</th>\n",
              "    </tr>\n",
              "  </thead>\n",
              "  <tbody>\n",
              "    <tr>\n",
              "      <td>0</td>\n",
              "      <td>1.157450</td>\n",
              "      <td>3.594868</td>\n",
              "      <td>0.425000</td>\n",
              "      <td>01:05</td>\n",
              "    </tr>\n",
              "    <tr>\n",
              "      <td>1</td>\n",
              "      <td>1.177469</td>\n",
              "      <td>3.673963</td>\n",
              "      <td>0.425000</td>\n",
              "      <td>01:06</td>\n",
              "    </tr>\n",
              "    <tr>\n",
              "      <td>2</td>\n",
              "      <td>1.106714</td>\n",
              "      <td>3.740988</td>\n",
              "      <td>0.408333</td>\n",
              "      <td>01:08</td>\n",
              "    </tr>\n",
              "    <tr>\n",
              "      <td>3</td>\n",
              "      <td>0.998208</td>\n",
              "      <td>3.734622</td>\n",
              "      <td>0.408333</td>\n",
              "      <td>01:07</td>\n",
              "    </tr>\n",
              "  </tbody>\n",
              "</table>"
            ],
            "text/plain": [
              "<IPython.core.display.HTML object>"
            ]
          },
          "metadata": {
            "tags": []
          }
        }
      ]
    },
    {
      "cell_type": "code",
      "metadata": {
        "id": "T2APKtFKBpGY",
        "outputId": "c6b1ccde-2710-4cee-9cf6-284c20978f8a",
        "colab": {
          "base_uri": "https://localhost:8080/",
          "height": 173
        }
      },
      "source": [
        "learn.fit_one_cycle(4, slice(2e-3/100, 2e-3))"
      ],
      "execution_count": 40,
      "outputs": [
        {
          "output_type": "display_data",
          "data": {
            "text/html": [
              "<table border=\"1\" class=\"dataframe\">\n",
              "  <thead>\n",
              "    <tr style=\"text-align: left;\">\n",
              "      <th>epoch</th>\n",
              "      <th>train_loss</th>\n",
              "      <th>valid_loss</th>\n",
              "      <th>accuracy</th>\n",
              "      <th>time</th>\n",
              "    </tr>\n",
              "  </thead>\n",
              "  <tbody>\n",
              "    <tr>\n",
              "      <td>0</td>\n",
              "      <td>0.891396</td>\n",
              "      <td>3.700220</td>\n",
              "      <td>0.433333</td>\n",
              "      <td>01:10</td>\n",
              "    </tr>\n",
              "    <tr>\n",
              "      <td>1</td>\n",
              "      <td>0.926486</td>\n",
              "      <td>3.753081</td>\n",
              "      <td>0.425000</td>\n",
              "      <td>01:10</td>\n",
              "    </tr>\n",
              "    <tr>\n",
              "      <td>2</td>\n",
              "      <td>0.894709</td>\n",
              "      <td>3.804236</td>\n",
              "      <td>0.425000</td>\n",
              "      <td>01:08</td>\n",
              "    </tr>\n",
              "    <tr>\n",
              "      <td>3</td>\n",
              "      <td>0.803308</td>\n",
              "      <td>3.686432</td>\n",
              "      <td>0.425000</td>\n",
              "      <td>01:08</td>\n",
              "    </tr>\n",
              "  </tbody>\n",
              "</table>"
            ],
            "text/plain": [
              "<IPython.core.display.HTML object>"
            ]
          },
          "metadata": {
            "tags": []
          }
        }
      ]
    },
    {
      "cell_type": "code",
      "metadata": {
        "id": "qtTypA1sPgLU",
        "outputId": "c3f6643a-1adc-4ed9-bc7f-d9da5e7529e9",
        "colab": {
          "base_uri": "https://localhost:8080/",
          "height": 111
        }
      },
      "source": [
        "learn.fit_one_cycle(2, slice(2e-3/100, 2e-3))"
      ],
      "execution_count": 41,
      "outputs": [
        {
          "output_type": "display_data",
          "data": {
            "text/html": [
              "<table border=\"1\" class=\"dataframe\">\n",
              "  <thead>\n",
              "    <tr style=\"text-align: left;\">\n",
              "      <th>epoch</th>\n",
              "      <th>train_loss</th>\n",
              "      <th>valid_loss</th>\n",
              "      <th>accuracy</th>\n",
              "      <th>time</th>\n",
              "    </tr>\n",
              "  </thead>\n",
              "  <tbody>\n",
              "    <tr>\n",
              "      <td>0</td>\n",
              "      <td>0.753685</td>\n",
              "      <td>3.764556</td>\n",
              "      <td>0.425000</td>\n",
              "      <td>01:09</td>\n",
              "    </tr>\n",
              "    <tr>\n",
              "      <td>1</td>\n",
              "      <td>0.726087</td>\n",
              "      <td>3.907835</td>\n",
              "      <td>0.433333</td>\n",
              "      <td>01:06</td>\n",
              "    </tr>\n",
              "  </tbody>\n",
              "</table>"
            ],
            "text/plain": [
              "<IPython.core.display.HTML object>"
            ]
          },
          "metadata": {
            "tags": []
          }
        }
      ]
    },
    {
      "cell_type": "code",
      "metadata": {
        "id": "b242kBsTUp9Y",
        "outputId": "d9120197-501f-46ff-da3f-f90a66af098e",
        "colab": {
          "base_uri": "https://localhost:8080/",
          "height": 111
        }
      },
      "source": [
        "learn.fit_one_cycle(2, slice(2e-3/100, 2e-3))"
      ],
      "execution_count": 42,
      "outputs": [
        {
          "output_type": "display_data",
          "data": {
            "text/html": [
              "<table border=\"1\" class=\"dataframe\">\n",
              "  <thead>\n",
              "    <tr style=\"text-align: left;\">\n",
              "      <th>epoch</th>\n",
              "      <th>train_loss</th>\n",
              "      <th>valid_loss</th>\n",
              "      <th>accuracy</th>\n",
              "      <th>time</th>\n",
              "    </tr>\n",
              "  </thead>\n",
              "  <tbody>\n",
              "    <tr>\n",
              "      <td>0</td>\n",
              "      <td>0.742977</td>\n",
              "      <td>3.937249</td>\n",
              "      <td>0.391667</td>\n",
              "      <td>01:07</td>\n",
              "    </tr>\n",
              "    <tr>\n",
              "      <td>1</td>\n",
              "      <td>0.686266</td>\n",
              "      <td>3.943910</td>\n",
              "      <td>0.391667</td>\n",
              "      <td>01:09</td>\n",
              "    </tr>\n",
              "  </tbody>\n",
              "</table>"
            ],
            "text/plain": [
              "<IPython.core.display.HTML object>"
            ]
          },
          "metadata": {
            "tags": []
          }
        }
      ]
    },
    {
      "cell_type": "code",
      "metadata": {
        "id": "Duwf1Ih5VeDZ",
        "outputId": "738cae63-4086-4f7e-ef5f-6920d55e9bbf",
        "colab": {
          "base_uri": "https://localhost:8080/",
          "height": 80
        }
      },
      "source": [
        "learn.fit_one_cycle(1, slice(2e-3/100, 2e-3))"
      ],
      "execution_count": 43,
      "outputs": [
        {
          "output_type": "display_data",
          "data": {
            "text/html": [
              "<table border=\"1\" class=\"dataframe\">\n",
              "  <thead>\n",
              "    <tr style=\"text-align: left;\">\n",
              "      <th>epoch</th>\n",
              "      <th>train_loss</th>\n",
              "      <th>valid_loss</th>\n",
              "      <th>accuracy</th>\n",
              "      <th>time</th>\n",
              "    </tr>\n",
              "  </thead>\n",
              "  <tbody>\n",
              "    <tr>\n",
              "      <td>0</td>\n",
              "      <td>0.638621</td>\n",
              "      <td>3.973651</td>\n",
              "      <td>0.433333</td>\n",
              "      <td>01:12</td>\n",
              "    </tr>\n",
              "  </tbody>\n",
              "</table>"
            ],
            "text/plain": [
              "<IPython.core.display.HTML object>"
            ]
          },
          "metadata": {
            "tags": []
          }
        }
      ]
    },
    {
      "cell_type": "code",
      "metadata": {
        "id": "c65d-osfDUXm"
      },
      "source": [
        "# save the best model\n",
        "\n",
        "learn.save_encoder('TwADR_pubmed_fold9')"
      ],
      "execution_count": 44,
      "outputs": []
    },
    {
      "cell_type": "code",
      "metadata": {
        "id": "5h-A_GpAIYg8",
        "outputId": "ead037f9-d23e-40c5-a048-f753a707c24c",
        "colab": {
          "base_uri": "https://localhost:8080/",
          "height": 80
        }
      },
      "source": [
        "learn.fit_one_cycle(1, slice(2e-3/100, 2e-3))"
      ],
      "execution_count": 45,
      "outputs": [
        {
          "output_type": "display_data",
          "data": {
            "text/html": [
              "<table border=\"1\" class=\"dataframe\">\n",
              "  <thead>\n",
              "    <tr style=\"text-align: left;\">\n",
              "      <th>epoch</th>\n",
              "      <th>train_loss</th>\n",
              "      <th>valid_loss</th>\n",
              "      <th>accuracy</th>\n",
              "      <th>time</th>\n",
              "    </tr>\n",
              "  </thead>\n",
              "  <tbody>\n",
              "    <tr>\n",
              "      <td>0</td>\n",
              "      <td>0.640733</td>\n",
              "      <td>4.090849</td>\n",
              "      <td>0.433333</td>\n",
              "      <td>01:15</td>\n",
              "    </tr>\n",
              "  </tbody>\n",
              "</table>"
            ],
            "text/plain": [
              "<IPython.core.display.HTML object>"
            ]
          },
          "metadata": {
            "tags": []
          }
        }
      ]
    },
    {
      "cell_type": "code",
      "metadata": {
        "id": "qc4poYxzIwca",
        "outputId": "cc2a5529-299c-4514-ec95-3eb2ac75b7b5",
        "colab": {
          "base_uri": "https://localhost:8080/",
          "height": 80
        }
      },
      "source": [
        "learn.fit_one_cycle(1, slice(2e-3/100, 2e-3))"
      ],
      "execution_count": 46,
      "outputs": [
        {
          "output_type": "display_data",
          "data": {
            "text/html": [
              "<table border=\"1\" class=\"dataframe\">\n",
              "  <thead>\n",
              "    <tr style=\"text-align: left;\">\n",
              "      <th>epoch</th>\n",
              "      <th>train_loss</th>\n",
              "      <th>valid_loss</th>\n",
              "      <th>accuracy</th>\n",
              "      <th>time</th>\n",
              "    </tr>\n",
              "  </thead>\n",
              "  <tbody>\n",
              "    <tr>\n",
              "      <td>0</td>\n",
              "      <td>0.563254</td>\n",
              "      <td>3.980119</td>\n",
              "      <td>0.408333</td>\n",
              "      <td>01:15</td>\n",
              "    </tr>\n",
              "  </tbody>\n",
              "</table>"
            ],
            "text/plain": [
              "<IPython.core.display.HTML object>"
            ]
          },
          "metadata": {
            "tags": []
          }
        }
      ]
    },
    {
      "cell_type": "code",
      "metadata": {
        "id": "66s4PxV1JVfo",
        "outputId": "8c95c3b0-ca54-4a07-a04c-9194d2019a1b",
        "colab": {
          "base_uri": "https://localhost:8080/",
          "height": 80
        }
      },
      "source": [
        "learn.fit_one_cycle(1, slice(2e-3/100, 2e-3))"
      ],
      "execution_count": 47,
      "outputs": [
        {
          "output_type": "display_data",
          "data": {
            "text/html": [
              "<table border=\"1\" class=\"dataframe\">\n",
              "  <thead>\n",
              "    <tr style=\"text-align: left;\">\n",
              "      <th>epoch</th>\n",
              "      <th>train_loss</th>\n",
              "      <th>valid_loss</th>\n",
              "      <th>accuracy</th>\n",
              "      <th>time</th>\n",
              "    </tr>\n",
              "  </thead>\n",
              "  <tbody>\n",
              "    <tr>\n",
              "      <td>0</td>\n",
              "      <td>0.538554</td>\n",
              "      <td>4.182415</td>\n",
              "      <td>0.425000</td>\n",
              "      <td>01:10</td>\n",
              "    </tr>\n",
              "  </tbody>\n",
              "</table>"
            ],
            "text/plain": [
              "<IPython.core.display.HTML object>"
            ]
          },
          "metadata": {
            "tags": []
          }
        }
      ]
    },
    {
      "cell_type": "markdown",
      "metadata": {
        "id": "rCwZU0E2RgM6"
      },
      "source": [
        "# Part three: Predict on the test dataset"
      ]
    },
    {
      "cell_type": "code",
      "metadata": {
        "id": "gDm72c-dOu7d",
        "outputId": "0471851e-df17-48a9-9bd3-4973ff61a1c7",
        "colab": {
          "base_uri": "https://localhost:8080/",
          "height": 17
        }
      },
      "source": [
        "# use the test data for prediction\n",
        "\n",
        "preds, y = learn.get_preds(DatasetType.Test)"
      ],
      "execution_count": 48,
      "outputs": [
        {
          "output_type": "display_data",
          "data": {
            "text/html": [
              ""
            ],
            "text/plain": [
              "<IPython.core.display.HTML object>"
            ]
          },
          "metadata": {
            "tags": []
          }
        }
      ]
    },
    {
      "cell_type": "code",
      "metadata": {
        "id": "6tFSQcsWPvxn",
        "outputId": "7f5a3ac4-99ad-4b09-8a7b-575f52a83596",
        "colab": {
          "base_uri": "https://localhost:8080/",
          "height": 105
        }
      },
      "source": [
        "predictions, *_ = learn.get_preds(DatasetType.Test)\n",
        "labels = np.argmax(predictions, 1)\n",
        "predict_list = labels.tolist()\n",
        "standard_list = test[0].tolist()\n",
        "\n",
        "print(len(predict_list))\n",
        "print(len(standard_list))\n",
        "\n",
        "print(predict_list)\n",
        "print(standard_list)"
      ],
      "execution_count": 49,
      "outputs": [
        {
          "output_type": "display_data",
          "data": {
            "text/html": [
              ""
            ],
            "text/plain": [
              "<IPython.core.display.HTML object>"
            ]
          },
          "metadata": {
            "tags": []
          }
        },
        {
          "output_type": "stream",
          "text": [
            "142\n",
            "142\n",
            "[1529, 947, 1204, 2149, 1483, 189, 189, 189, 1099, 224, 224, 2081, 2147, 1936, 233, 2147, 249, 1096, 301, 561, 749, 1099, 1769, 749, 749, 749, 1925, 791, 1054, 792, 154, 2149, 1308, 978, 1884, 249, 1884, 852, 2023, 1096, 1136, 974, 974, 974, 974, 109, 978, 978, 989, 1019, 1529, 1062, 1718, 1096, 1526, 2032, 1925, 1136, 1136, 1594, 1798, 1458, 1340, 1529, 1096, 852, 265, 1099, 1597, 1822, 1676, 2149, 1529, 1432, 1432, 825, 1507, 1526, 1508, 1595, 1597, 1597, 1597, 1597, 1676, 249, 1942, 1610, 1610, 1526, 1701, 1526, 1701, 1526, 1711, 1711, 1727, 1727, 1767, 1099, 1767, 1727, 1669, 276, 1787, 1767, 1767, 1787, 1787, 1787, 1787, 1787, 2194, 1718, 1727, 670, 825, 1062, 1099, 1529, 1942, 2149, 2024, 2032, 2032, 1787, 1787, 1769, 2103, 813, 2147, 2147, 2147, 2147, 2149, 2103, 1340, 2194, 1529, 824, 2194, 2194]\n",
            "[62, 74, 85, 91, 97, 189, 189, 189, 224, 224, 224, 233, 233, 233, 233, 233, 249, 250, 301, 504, 561, 620, 739, 749, 749, 749, 791, 791, 791, 792, 813, 818, 822, 822, 824, 824, 825, 852, 923, 936, 945, 974, 974, 974, 974, 974, 978, 978, 989, 1019, 1062, 1062, 1073, 1096, 1099, 1099, 1099, 1136, 1136, 1163, 1196, 1230, 1265, 1283, 1295, 1295, 1319, 1325, 1325, 1356, 1373, 1432, 1432, 1432, 1432, 1484, 1507, 1507, 1508, 1595, 1597, 1597, 1597, 1597, 1599, 1599, 1610, 1610, 1610, 1701, 1701, 1701, 1701, 1701, 1711, 1711, 1718, 1718, 1718, 1718, 1718, 1718, 1727, 1767, 1767, 1767, 1767, 1787, 1787, 1787, 1787, 1787, 1787, 1798, 1815, 1873, 1884, 1925, 1936, 1942, 1942, 2024, 2024, 2032, 2032, 2032, 2032, 2074, 2103, 2125, 2147, 2147, 2147, 2147, 2147, 2149, 2149, 2149, 2149, 2168, 2194, 2194]\n"
          ],
          "name": "stdout"
        }
      ]
    },
    {
      "cell_type": "code",
      "metadata": {
        "id": "XIC4zufnMxtq",
        "outputId": "6cd61d21-51eb-414c-8a37-cedcd0ac97c2",
        "colab": {
          "base_uri": "https://localhost:8080/"
        }
      },
      "source": [
        "correct_num = 0\n",
        "\n",
        "for i in range(0, len(standard_list)):\n",
        "  if predict_list[i] == standard_list[i]:\n",
        "    correct_num = correct_num+1\n",
        "  else:\n",
        "    pass\n",
        "print(correct_num)\n",
        "\n",
        "predict_accuracy = correct_num/len(predict_list)\n",
        "print(predict_accuracy)"
      ],
      "execution_count": 50,
      "outputs": [
        {
          "output_type": "stream",
          "text": [
            "59\n",
            "0.4154929577464789\n"
          ],
          "name": "stdout"
        }
      ]
    },
    {
      "cell_type": "code",
      "metadata": {
        "id": "zlKMHp1CIaRJ"
      },
      "source": [
        ""
      ],
      "execution_count": 50,
      "outputs": []
    }
  ]
}